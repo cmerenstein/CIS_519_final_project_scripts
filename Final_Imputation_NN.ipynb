{
  "nbformat": 4,
  "nbformat_minor": 0,
  "metadata": {
    "kernelspec": {
      "display_name": "Python 3",
      "language": "python",
      "name": "python3"
    },
    "language_info": {
      "codemirror_mode": {
        "name": "ipython",
        "version": 3
      },
      "file_extension": ".py",
      "mimetype": "text/x-python",
      "name": "python",
      "nbconvert_exporter": "python",
      "pygments_lexer": "ipython3",
      "version": "3.6.12"
    },
    "colab": {
      "name": "Final_Imputation_NN.ipynb",
      "provenance": [],
      "collapsed_sections": []
    },
    "accelerator": "GPU"
  },
  "cells": [
    {
      "cell_type": "code",
      "metadata": {
        "id": "PDnJtHZmEmJq"
      },
      "source": [
        "%matplotlib inline"
      ],
      "execution_count": 3,
      "outputs": []
    },
    {
      "cell_type": "markdown",
      "metadata": {
        "id": "4ti4yaulEmJ3"
      },
      "source": [
        "\n",
        "Define the neural net\n",
        "------------------\n",
        "We want to be able to modify the hyperparameters easily, so the NN has to be designed in a modular way.\n"
      ]
    },
    {
      "cell_type": "code",
      "metadata": {
        "id": "eJGzm1qKEmJ5"
      },
      "source": [
        "import torch\n",
        "import torch.nn as nn\n",
        "import torch.nn.functional as F\n",
        "import math\n",
        "\n",
        "\n",
        "class Net(nn.Module):\n",
        "\n",
        "    def __init__(self, n_layers = 4, first_layer_nodes = 16, batch_norm = True, \n",
        "                  dropout = None, data_dim = None, output_nodes = None):\n",
        "        super(Net, self).__init__()\n",
        "        \n",
        "        ## initialize layers as a ModuleList(), a reguar list doesn't work, idk why\n",
        "        self.layers = nn.ModuleList()\n",
        "\n",
        "        ## the number of nodes in each layer is dependent on the nodes before it\n",
        "        prev_nodes = data_dim\n",
        "\n",
        "        for layer in range(n_layers):\n",
        "\n",
        "          ## NN expands then contracts, symetrically\n",
        "          if layer == 0:\n",
        "            n_nodes = first_layer_nodes\n",
        "          elif layer < n_layers / 2: \n",
        "            n_nodes = int(prev_nodes * 2)\n",
        "          else:\n",
        "            n_nodes = int(prev_nodes / 2)\n",
        "          \n",
        "          ## add the linear layer to the module list\n",
        "          self.layers.append(nn.Linear(prev_nodes, n_nodes))\n",
        "          \n",
        "          ## add a batch normalization step\n",
        "          if batch_norm:\n",
        "            self.layers.append(nn.BatchNorm1d(1))\n",
        "\n",
        "          if dropout != None:\n",
        "            self.layers.append(nn.Dropout(dropout))\n",
        "          \n",
        "          ## update the number of nodes\n",
        "          prev_nodes = n_nodes\n",
        "\n",
        "        ## add the last layer to get the data into the final prediction size\n",
        "        self.layers.append(nn.Linear(prev_nodes, output_nodes))\n",
        "\n",
        "    def forward(self, x):\n",
        "      ## Here we're just iterating through the NN layers, adding a ReLU if \n",
        "      ## it's a linear layer, or just running the layer if it's a batchNorm\n",
        "        for layer in self.layers[0:-1]:\n",
        "          if isinstance(layer, nn.Linear):\n",
        "            x = F.relu(layer(x))\n",
        "          elif isinstance(layer, nn.BatchNorm1d) or isinstance(layer, nn.Dropout):\n",
        "            x = layer(x)\n",
        "        \n",
        "        x = self.layers[-1](x) ## last layer doesn't get relu\n",
        "        return x\n",
        "\n",
        "    def num_flat_features(self, x):\n",
        "      ## this was a holdover function from the PyTorch tutorial, idk what it's for\n",
        "        size = x.size()[1:]  # all dimensions except the batch dimension\n",
        "        num_features = 1\n",
        "        for s in size:\n",
        "            num_features *= s\n",
        "        return num_features\n",
        "\n",
        "\n"
      ],
      "execution_count": 4,
      "outputs": []
    },
    {
      "cell_type": "markdown",
      "metadata": {
        "id": "inL6P96LEmJ-"
      },
      "source": [
        "# Define the optimization procedure\n",
        "\n"
      ]
    },
    {
      "cell_type": "code",
      "metadata": {
        "id": "CnegzbBpZ8oN"
      },
      "source": [
        "def train_net(X, y, model, optimizer, criterion, maxiter, epsilon, batch_size):\n",
        "  \n",
        "  prev_loss = 9999\n",
        "  n_batches = int(X.shape[0] / batch_size)\n",
        "\n",
        "  for iter in range(maxiter):\n",
        "    for batch in range(n_batches):\n",
        "      X_local = X[batch * batch_size : (batch + 1) * batch_size,:,:]\n",
        "      y_local = y[batch * batch_size : (batch + 1) * batch_size, :,:]\n",
        "\n",
        "      #print(\"X_local.shape \", X_local.shape)\n",
        "\n",
        "      optimizer.zero_grad()   # zero the gradient buffers\n",
        "      output = model(X_local)\n",
        "      loss = criterion(output, y_local)\n",
        "      loss.backward()\n",
        "      optimizer.step()\n",
        "\n",
        "    #  print(\"y_local: \", y_local[0:5,:, :])\n",
        "    #  print(\"output: \", output[0:5, :, :])\n",
        "      assert not math.isnan(loss)\n",
        "\n",
        "    output = model(X)\n",
        "    full_loss = criterion(output, y)   \n",
        "   \n",
        "    if iter % 10 == 0:\n",
        "      print(full_loss)\n",
        "      if (prev_loss - full_loss) <= epsilon:\n",
        "        break\n",
        "      prev_loss = full_loss\n",
        "    \n",
        "    \n",
        "\n",
        "  return model, loss"
      ],
      "execution_count": 5,
      "outputs": []
    },
    {
      "cell_type": "markdown",
      "metadata": {
        "id": "dZPwZ9X2p2vd"
      },
      "source": [
        "# Load data"
      ]
    },
    {
      "cell_type": "code",
      "metadata": {
        "colab": {
          "base_uri": "https://localhost:8080/"
        },
        "id": "zGa7qAAop6VQ",
        "outputId": "137877a6-0e56-4400-978b-7f10f724c847"
      },
      "source": [
        "import torch.optim as optim\n",
        "import pandas as pd\n",
        "import numpy as np\n",
        "from scipy.io import mmread\n",
        "from google.colab import drive\n",
        "from sklearn.model_selection import train_test_split\n",
        "drive.mount('/content/drive')\n",
        "\n",
        "torch.cuda.set_device(\"cuda:0\")\n",
        "\n",
        "\n",
        "RNA = \"drive/MyDrive/CIS_519_data/matrix.mtx\"\n",
        "ADT = \"drive/MyDrive/CIS_519_data/raw_adt_counts.csv\"\n",
        "\n",
        "precipitates = pd.read_csv(\"drive/MyDrive/CIS_519_data/PAUMXB_precipitated_cells.csv\")\n",
        "\n",
        "## It's very slow to read the matrix, and takes a lot of memory, so once we've\n",
        "## made the variance filtered one, we just use that directly \n",
        "\n",
        "'''   \n",
        "X = pd.DataFrame(mmread(RNA).todense().T)\n",
        "var_filtered = X.loc[:,np.var(X, axis = 0) >= 0.6]\n",
        "var_filtered.to_csv(\"drive/MyDrive/CIS_519_data/RNA_expression_variance_filtered.csv\")\n",
        "\n",
        "del X\n",
        "'''\n",
        "\n",
        "## var_filtered is the X data, filtered to only genes with >= 0.6 var(counts)\n",
        "var_filtered = pd.read_csv(\"drive/MyDrive/CIS_519_data/RNA_expression_variance_filtered.csv\")\n",
        "\n",
        "## read Y data. To make the problem more tractable with our limited compute power\n",
        "## we're only going to try to impute 2 proteins for now. We're also going to \n",
        "## log transform our counts, as is typical in CITE-seq experiments\n",
        "y = pd.read_csv(ADT)\n",
        "y = y[[\"CD22.1\", \"CD2.1\"]]\n",
        "y = np.log(y + 1)\n",
        "\n",
        "## split training and test. The most important part of ML is picking a lucky random state\n",
        "X_train, X_test, y_train, y_test = train_test_split(var_filtered,y, test_size=0.25, random_state=19002)\n",
        "precip_train = precipitates.iloc[X_train.index, :]\n",
        "precip_test = precipitates.iloc[X_test.index, :]\n"
      ],
      "execution_count": 6,
      "outputs": [
        {
          "output_type": "stream",
          "text": [
            "Mounted at /content/drive\n"
          ],
          "name": "stdout"
        }
      ]
    },
    {
      "cell_type": "markdown",
      "metadata": {
        "id": "lvoFG2S00lsX"
      },
      "source": [
        "## Filter training data to just non-precipitated cells\n",
        "We don't want to train on any of the garbage cells, or we'll be learning to recapitulate the junk instead of imputing what the junk should be."
      ]
    },
    {
      "cell_type": "code",
      "metadata": {
        "colab": {
          "base_uri": "https://localhost:8080/",
          "height": 412
        },
        "id": "Xkz-7VeAwaLo",
        "outputId": "31e5aa18-5d53-48a4-bf9c-7a1b8e122de3"
      },
      "source": [
        "import matplotlib.pyplot as plt\n",
        "print(X_train.head())\n",
        "X_train = X_train.loc[precip_train[\"precip\"] == 0, :]\n",
        "y_train = y_train.loc[precip_train[\"precip\"] == 0, :]\n",
        "\n",
        "plt.scatter(y_train[\"CD22.1\"], y_train[\"CD2.1\"])\n",
        "plt.show()\n"
      ],
      "execution_count": 7,
      "outputs": [
        {
          "output_type": "stream",
          "text": [
            "       Unnamed: 0  26  78  154  190  ...  33555  33556  33557  33558  33559\n",
            "2905         2905   0   0    9    0  ...      3      3      4     12      2\n",
            "2997         2997   0   0    5    0  ...      2      2     81     41      1\n",
            "21900       21900   0   0    8    0  ...      1      3      2     15      0\n",
            "13262       13262   0   0    0    0  ...      5      2      3     12      2\n",
            "21361       21361   0   0    8    0  ...      3     47      7     21      3\n",
            "\n",
            "[5 rows x 1447 columns]\n"
          ],
          "name": "stdout"
        },
        {
          "output_type": "display_data",
          "data": {
            "image/png": "[encoded data removed]",
            "text/plain": [
              "<Figure size 432x288 with 1 Axes>"
            ]
          },
          "metadata": {
            "tags": [],
            "needs_background": "light"
          }
        }
      ]
    },
    {
      "cell_type": "code",
      "metadata": {
        "id": "tFoRp7qHtmER"
      },
      "source": [
        "from sklearn.preprocessing import StandardScaler\n",
        "\n",
        "scaler = StandardScaler()\n",
        "scaler.fit(X_train)\n",
        "X_std = scaler.transform(X_train)\n",
        "\n",
        "scaler_y = StandardScaler()\n",
        "scaler_y.fit(y_train)\n",
        "y_std = scaler_y.transform(y_train)\n",
        "\n",
        "X_shape = X_std.shape\n",
        "y_shape = y_std.shape\n",
        "\n",
        "input = torch.from_numpy(X_std.T).reshape([X_shape[1], 1, X_shape[0]]).permute(2, 1, 0)\n",
        "target = torch.from_numpy(y_std).reshape([y_shape[0], 1, y_shape[1]])\n",
        "target.shape\n",
        "\n",
        "del X_std\n",
        "del y_std\n",
        "#del y\n"
      ],
      "execution_count": 8,
      "outputs": []
    },
    {
      "cell_type": "markdown",
      "metadata": {
        "id": "S3VJNliLbPIM"
      },
      "source": [
        "# Train model, get loss"
      ]
    },
    {
      "cell_type": "code",
      "metadata": {
        "id": "W7s8SymXEmKD",
        "colab": {
          "base_uri": "https://localhost:8080/"
        },
        "outputId": "9c2d3655-c02f-45a7-e4d6-9cb85277976d"
      },
      "source": [
        "net = Net(n_layers = 4, first_layer_nodes = 64, data_dim = X_shape[1], \n",
        "            output_nodes = 2, batch_norm = True, dropout = 0.25).to(\"cuda:0\")\n",
        "print(net)\n",
        "\n",
        "# create your optimizer\n",
        "optimizer = optim.Adam(net.parameters(), lr=0.0005)\n",
        "criterion = nn.MSELoss()\n",
        "\n",
        "input = input.float().to(\"cuda:0\")\n",
        "target = target.float().to(\"cuda:0\")\n",
        "\n",
        "print(input.shape)\n",
        "print(target.shape)\n",
        "print(target.is_cuda)\n",
        "\n",
        "trained, loss = train_net(input, target, net, optimizer, criterion, maxiter = 1000, \n",
        "                          epsilon = 0.00001, batch_size = 128)\n",
        "\n",
        "\n"
      ],
      "execution_count": 9,
      "outputs": [
        {
          "output_type": "stream",
          "text": [
            "Net(\n",
            "  (layers): ModuleList(\n",
            "    (0): Linear(in_features=1447, out_features=64, bias=True)\n",
            "    (1): BatchNorm1d(1, eps=1e-05, momentum=0.1, affine=True, track_running_stats=True)\n",
            "    (2): Dropout(p=0.25, inplace=False)\n",
            "    (3): Linear(in_features=64, out_features=128, bias=True)\n",
            "    (4): BatchNorm1d(1, eps=1e-05, momentum=0.1, affine=True, track_running_stats=True)\n",
            "    (5): Dropout(p=0.25, inplace=False)\n",
            "    (6): Linear(in_features=128, out_features=64, bias=True)\n",
            "    (7): BatchNorm1d(1, eps=1e-05, momentum=0.1, affine=True, track_running_stats=True)\n",
            "    (8): Dropout(p=0.25, inplace=False)\n",
            "    (9): Linear(in_features=64, out_features=32, bias=True)\n",
            "    (10): BatchNorm1d(1, eps=1e-05, momentum=0.1, affine=True, track_running_stats=True)\n",
            "    (11): Dropout(p=0.25, inplace=False)\n",
            "    (12): Linear(in_features=32, out_features=2, bias=True)\n",
            "  )\n",
            ")\n",
            "torch.Size([15648, 1, 1447])\n",
            "torch.Size([15648, 1, 2])\n",
            "True\n",
            "tensor(0.9372, device='cuda:0', grad_fn=<MseLossBackward>)\n",
            "tensor(0.1913, device='cuda:0', grad_fn=<MseLossBackward>)\n",
            "tensor(0.1387, device='cuda:0', grad_fn=<MseLossBackward>)\n",
            "tensor(0.1194, device='cuda:0', grad_fn=<MseLossBackward>)\n",
            "tensor(0.1110, device='cuda:0', grad_fn=<MseLossBackward>)\n",
            "tensor(0.1055, device='cuda:0', grad_fn=<MseLossBackward>)\n",
            "tensor(0.0966, device='cuda:0', grad_fn=<MseLossBackward>)\n",
            "tensor(0.0867, device='cuda:0', grad_fn=<MseLossBackward>)\n",
            "tensor(0.0879, device='cuda:0', grad_fn=<MseLossBackward>)\n"
          ],
          "name": "stdout"
        }
      ]
    },
    {
      "cell_type": "code",
      "metadata": {
        "colab": {
          "base_uri": "https://localhost:8080/",
          "height": 206
        },
        "id": "22TE4d4Vx_j5",
        "outputId": "c25c6798-10c8-4337-d34e-63c0666d4bb6"
      },
      "source": [
        "## save imputed and train Y\n",
        "imputed = trained(input.float()).detach().cpu().numpy()\n",
        "imp_train_df = pd.DataFrame(imputed.squeeze())\n",
        "train_y_df = pd.DataFrame(target.cpu().numpy().squeeze())\n",
        "imputation_df = pd.concat([imp_train_df, train_y_df], axis = 1)\n",
        "imputation_df.columns = [\"CD22_imp\", \"CD2_imp\", \"CD22_true\", \"CD2_true\"]\n",
        "imputation_df[\"set\"] = \"training\"\n",
        "imputation_df[\"precip\"] = 0\n",
        "imputation_df.head()"
      ],
      "execution_count": 10,
      "outputs": [
        {
          "output_type": "execute_result",
          "data": {
            "text/html": [
              "<div>\n",
              "<style scoped>\n",
              "    .dataframe tbody tr th:only-of-type {\n",
              "        vertical-align: middle;\n",
              "    }\n",
              "\n",
              "    .dataframe tbody tr th {\n",
              "        vertical-align: top;\n",
              "    }\n",
              "\n",
              "    .dataframe thead th {\n",
              "        text-align: right;\n",
              "    }\n",
              "</style>\n",
              "<table border=\"1\" class=\"dataframe\">\n",
              "  <thead>\n",
              "    <tr style=\"text-align: right;\">\n",
              "      <th></th>\n",
              "      <th>CD22_imp</th>\n",
              "      <th>CD2_imp</th>\n",
              "      <th>CD22_true</th>\n",
              "      <th>CD2_true</th>\n",
              "      <th>set</th>\n",
              "      <th>precip</th>\n",
              "    </tr>\n",
              "  </thead>\n",
              "  <tbody>\n",
              "    <tr>\n",
              "      <th>0</th>\n",
              "      <td>0.580134</td>\n",
              "      <td>0.668246</td>\n",
              "      <td>0.239791</td>\n",
              "      <td>0.488008</td>\n",
              "      <td>training</td>\n",
              "      <td>0</td>\n",
              "    </tr>\n",
              "    <tr>\n",
              "      <th>1</th>\n",
              "      <td>-0.493817</td>\n",
              "      <td>0.932818</td>\n",
              "      <td>-0.290484</td>\n",
              "      <td>0.867440</td>\n",
              "      <td>training</td>\n",
              "      <td>0</td>\n",
              "    </tr>\n",
              "    <tr>\n",
              "      <th>2</th>\n",
              "      <td>-0.203471</td>\n",
              "      <td>-1.407179</td>\n",
              "      <td>0.239791</td>\n",
              "      <td>-1.489812</td>\n",
              "      <td>training</td>\n",
              "      <td>0</td>\n",
              "    </tr>\n",
              "    <tr>\n",
              "      <th>3</th>\n",
              "      <td>-0.047381</td>\n",
              "      <td>-1.166788</td>\n",
              "      <td>-0.290484</td>\n",
              "      <td>-1.043688</td>\n",
              "      <td>training</td>\n",
              "      <td>0</td>\n",
              "    </tr>\n",
              "    <tr>\n",
              "      <th>4</th>\n",
              "      <td>-0.341116</td>\n",
              "      <td>0.992767</td>\n",
              "      <td>-0.290484</td>\n",
              "      <td>1.280545</td>\n",
              "      <td>training</td>\n",
              "      <td>0</td>\n",
              "    </tr>\n",
              "  </tbody>\n",
              "</table>\n",
              "</div>"
            ],
            "text/plain": [
              "   CD22_imp   CD2_imp  CD22_true  CD2_true       set  precip\n",
              "0  0.580134  0.668246   0.239791  0.488008  training       0\n",
              "1 -0.493817  0.932818  -0.290484  0.867440  training       0\n",
              "2 -0.203471 -1.407179   0.239791 -1.489812  training       0\n",
              "3 -0.047381 -1.166788  -0.290484 -1.043688  training       0\n",
              "4 -0.341116  0.992767  -0.290484  1.280545  training       0"
            ]
          },
          "metadata": {
            "tags": []
          },
          "execution_count": 10
        }
      ]
    },
    {
      "cell_type": "markdown",
      "metadata": {
        "id": "5fgHalC1MF5S"
      },
      "source": [
        "## Test performance on validation set"
      ]
    },
    {
      "cell_type": "markdown",
      "metadata": {
        "id": "l0S2CMprlvzA"
      },
      "source": [
        "Here we run the model on the validation set to test our imputation."
      ]
    },
    {
      "cell_type": "code",
      "metadata": {
        "id": "kfnphvUd6rnP",
        "colab": {
          "base_uri": "https://localhost:8080/",
          "height": 333
        },
        "outputId": "b0e049a1-70ed-43cf-8270-5dc68a018fec"
      },
      "source": [
        "import matplotlib.pyplot as plt\n",
        "\n",
        "scaler = StandardScaler()\n",
        "scaler.fit(X_test)\n",
        "X_test_std = scaler.transform(X_test)\n",
        "\n",
        "scaler_y = StandardScaler()\n",
        "scaler_y.fit(y_test)\n",
        "y_test_std = scaler_y.transform(y_test)\n",
        "\n",
        "# ## Scale with the same transform as the training data\n",
        "# X_test_std = scaler.transform(X_test)\n",
        "# y_test_std = scaler_y.transform(y_test)\n",
        "\n",
        "## get shape to make tensor\n",
        "X_test_shape = X_test_std.shape\n",
        "y_test_shape = y_test_std.shape\n",
        "print(X_test_shape)\n",
        "\n",
        "test_input = torch.from_numpy(X_test_std.T).reshape([X_test_shape[1], 1, X_test_shape[0]]).permute(2, 1, 0).to(\"cuda:0\")\n",
        "test_target = torch.from_numpy(y_test_std).reshape([y_test_shape[0], 1, y_test_shape[1]]).to(\"cuda:0\")\n",
        "\n",
        "imputed = trained(test_input.float()).detach().cpu().numpy()\n",
        "imp_df = pd.DataFrame(imputed.squeeze())\n",
        "\n",
        "y_df = pd.DataFrame(test_target.cpu().numpy().squeeze())\n",
        "\n",
        "test_imputation_df = pd.concat([imp_df, y_df], axis = 1)\n",
        "test_imputation_df.columns = [\"CD22_imp\", \"CD2_imp\", \"CD22_true\", \"CD2_true\"]\n",
        "print(test_imputation_df.head())\n",
        "test_imputation_df[\"set\"] = \"test\"\n",
        "test_imputation_df[\"precip\"] = [i for i in precip_test[\"precip\"]]\n",
        "\n",
        "test_imputation_df.head()\n"
      ],
      "execution_count": 11,
      "outputs": [
        {
          "output_type": "stream",
          "text": [
            "(5496, 1447)\n",
            "   CD22_imp   CD2_imp  CD22_true  CD2_true\n",
            "0 -0.294413 -0.877221  -0.960699 -0.280694\n",
            "1  0.038235 -1.065728  -0.960699 -0.649554\n",
            "2  0.161414 -0.900344   0.530595 -0.870283\n",
            "3  0.346643 -0.211391  -0.300791 -0.200043\n",
            "4 -0.571628  1.135847   0.167421  0.945739\n"
          ],
          "name": "stdout"
        },
        {
          "output_type": "execute_result",
          "data": {
            "text/html": [
              "<div>\n",
              "<style scoped>\n",
              "    .dataframe tbody tr th:only-of-type {\n",
              "        vertical-align: middle;\n",
              "    }\n",
              "\n",
              "    .dataframe tbody tr th {\n",
              "        vertical-align: top;\n",
              "    }\n",
              "\n",
              "    .dataframe thead th {\n",
              "        text-align: right;\n",
              "    }\n",
              "</style>\n",
              "<table border=\"1\" class=\"dataframe\">\n",
              "  <thead>\n",
              "    <tr style=\"text-align: right;\">\n",
              "      <th></th>\n",
              "      <th>CD22_imp</th>\n",
              "      <th>CD2_imp</th>\n",
              "      <th>CD22_true</th>\n",
              "      <th>CD2_true</th>\n",
              "      <th>set</th>\n",
              "      <th>precip</th>\n",
              "    </tr>\n",
              "  </thead>\n",
              "  <tbody>\n",
              "    <tr>\n",
              "      <th>0</th>\n",
              "      <td>-0.294413</td>\n",
              "      <td>-0.877221</td>\n",
              "      <td>-0.960699</td>\n",
              "      <td>-0.280694</td>\n",
              "      <td>test</td>\n",
              "      <td>0</td>\n",
              "    </tr>\n",
              "    <tr>\n",
              "      <th>1</th>\n",
              "      <td>0.038235</td>\n",
              "      <td>-1.065728</td>\n",
              "      <td>-0.960699</td>\n",
              "      <td>-0.649554</td>\n",
              "      <td>test</td>\n",
              "      <td>0</td>\n",
              "    </tr>\n",
              "    <tr>\n",
              "      <th>2</th>\n",
              "      <td>0.161414</td>\n",
              "      <td>-0.900344</td>\n",
              "      <td>0.530595</td>\n",
              "      <td>-0.870283</td>\n",
              "      <td>test</td>\n",
              "      <td>0</td>\n",
              "    </tr>\n",
              "    <tr>\n",
              "      <th>3</th>\n",
              "      <td>0.346643</td>\n",
              "      <td>-0.211391</td>\n",
              "      <td>-0.300791</td>\n",
              "      <td>-0.200043</td>\n",
              "      <td>test</td>\n",
              "      <td>0</td>\n",
              "    </tr>\n",
              "    <tr>\n",
              "      <th>4</th>\n",
              "      <td>-0.571628</td>\n",
              "      <td>1.135847</td>\n",
              "      <td>0.167421</td>\n",
              "      <td>0.945739</td>\n",
              "      <td>test</td>\n",
              "      <td>0</td>\n",
              "    </tr>\n",
              "  </tbody>\n",
              "</table>\n",
              "</div>"
            ],
            "text/plain": [
              "   CD22_imp   CD2_imp  CD22_true  CD2_true   set  precip\n",
              "0 -0.294413 -0.877221  -0.960699 -0.280694  test       0\n",
              "1  0.038235 -1.065728  -0.960699 -0.649554  test       0\n",
              "2  0.161414 -0.900344   0.530595 -0.870283  test       0\n",
              "3  0.346643 -0.211391  -0.300791 -0.200043  test       0\n",
              "4 -0.571628  1.135847   0.167421  0.945739  test       0"
            ]
          },
          "metadata": {
            "tags": []
          },
          "execution_count": 11
        }
      ]
    },
    {
      "cell_type": "code",
      "metadata": {
        "colab": {
          "base_uri": "https://localhost:8080/",
          "height": 424
        },
        "id": "HhfcSRWoxQyC",
        "outputId": "ae4b20d1-c34e-486e-a760-e4857d6c74c2"
      },
      "source": [
        "all_imputation = pd.concat([test_imputation_df, imputation_df], axis = 0)\n",
        "all_imputation.to_csv(\"drive/MyDrive/CIS_519_data/imputation_results.csv\")\n",
        "all_imputation"
      ],
      "execution_count": 12,
      "outputs": [
        {
          "output_type": "execute_result",
          "data": {
            "text/html": [
              "<div>\n",
              "<style scoped>\n",
              "    .dataframe tbody tr th:only-of-type {\n",
              "        vertical-align: middle;\n",
              "    }\n",
              "\n",
              "    .dataframe tbody tr th {\n",
              "        vertical-align: top;\n",
              "    }\n",
              "\n",
              "    .dataframe thead th {\n",
              "        text-align: right;\n",
              "    }\n",
              "</style>\n",
              "<table border=\"1\" class=\"dataframe\">\n",
              "  <thead>\n",
              "    <tr style=\"text-align: right;\">\n",
              "      <th></th>\n",
              "      <th>CD22_imp</th>\n",
              "      <th>CD2_imp</th>\n",
              "      <th>CD22_true</th>\n",
              "      <th>CD2_true</th>\n",
              "      <th>set</th>\n",
              "      <th>precip</th>\n",
              "    </tr>\n",
              "  </thead>\n",
              "  <tbody>\n",
              "    <tr>\n",
              "      <th>0</th>\n",
              "      <td>-0.294413</td>\n",
              "      <td>-0.877221</td>\n",
              "      <td>-0.960699</td>\n",
              "      <td>-0.280694</td>\n",
              "      <td>test</td>\n",
              "      <td>0</td>\n",
              "    </tr>\n",
              "    <tr>\n",
              "      <th>1</th>\n",
              "      <td>0.038235</td>\n",
              "      <td>-1.065728</td>\n",
              "      <td>-0.960699</td>\n",
              "      <td>-0.649554</td>\n",
              "      <td>test</td>\n",
              "      <td>0</td>\n",
              "    </tr>\n",
              "    <tr>\n",
              "      <th>2</th>\n",
              "      <td>0.161414</td>\n",
              "      <td>-0.900344</td>\n",
              "      <td>0.530595</td>\n",
              "      <td>-0.870283</td>\n",
              "      <td>test</td>\n",
              "      <td>0</td>\n",
              "    </tr>\n",
              "    <tr>\n",
              "      <th>3</th>\n",
              "      <td>0.346643</td>\n",
              "      <td>-0.211391</td>\n",
              "      <td>-0.300791</td>\n",
              "      <td>-0.200043</td>\n",
              "      <td>test</td>\n",
              "      <td>0</td>\n",
              "    </tr>\n",
              "    <tr>\n",
              "      <th>4</th>\n",
              "      <td>-0.571628</td>\n",
              "      <td>1.135847</td>\n",
              "      <td>0.167421</td>\n",
              "      <td>0.945739</td>\n",
              "      <td>test</td>\n",
              "      <td>0</td>\n",
              "    </tr>\n",
              "    <tr>\n",
              "      <th>...</th>\n",
              "      <td>...</td>\n",
              "      <td>...</td>\n",
              "      <td>...</td>\n",
              "      <td>...</td>\n",
              "      <td>...</td>\n",
              "      <td>...</td>\n",
              "    </tr>\n",
              "    <tr>\n",
              "      <th>15643</th>\n",
              "      <td>-0.802226</td>\n",
              "      <td>-2.494401</td>\n",
              "      <td>-1.037864</td>\n",
              "      <td>-3.047870</td>\n",
              "      <td>training</td>\n",
              "      <td>0</td>\n",
              "    </tr>\n",
              "    <tr>\n",
              "      <th>15644</th>\n",
              "      <td>-0.923832</td>\n",
              "      <td>1.336753</td>\n",
              "      <td>0.239791</td>\n",
              "      <td>1.528314</td>\n",
              "      <td>training</td>\n",
              "      <td>0</td>\n",
              "    </tr>\n",
              "    <tr>\n",
              "      <th>15645</th>\n",
              "      <td>-0.816948</td>\n",
              "      <td>-0.117398</td>\n",
              "      <td>-0.290484</td>\n",
              "      <td>-0.073535</td>\n",
              "      <td>training</td>\n",
              "      <td>0</td>\n",
              "    </tr>\n",
              "    <tr>\n",
              "      <th>15646</th>\n",
              "      <td>-0.256517</td>\n",
              "      <td>0.704664</td>\n",
              "      <td>-0.290484</td>\n",
              "      <td>1.212521</td>\n",
              "      <td>training</td>\n",
              "      <td>0</td>\n",
              "    </tr>\n",
              "    <tr>\n",
              "      <th>15647</th>\n",
              "      <td>-0.074220</td>\n",
              "      <td>-1.648034</td>\n",
              "      <td>-0.290484</td>\n",
              "      <td>-1.869244</td>\n",
              "      <td>training</td>\n",
              "      <td>0</td>\n",
              "    </tr>\n",
              "  </tbody>\n",
              "</table>\n",
              "<p>21144 rows × 6 columns</p>\n",
              "</div>"
            ],
            "text/plain": [
              "       CD22_imp   CD2_imp  CD22_true  CD2_true       set  precip\n",
              "0     -0.294413 -0.877221  -0.960699 -0.280694      test       0\n",
              "1      0.038235 -1.065728  -0.960699 -0.649554      test       0\n",
              "2      0.161414 -0.900344   0.530595 -0.870283      test       0\n",
              "3      0.346643 -0.211391  -0.300791 -0.200043      test       0\n",
              "4     -0.571628  1.135847   0.167421  0.945739      test       0\n",
              "...         ...       ...        ...       ...       ...     ...\n",
              "15643 -0.802226 -2.494401  -1.037864 -3.047870  training       0\n",
              "15644 -0.923832  1.336753   0.239791  1.528314  training       0\n",
              "15645 -0.816948 -0.117398  -0.290484 -0.073535  training       0\n",
              "15646 -0.256517  0.704664  -0.290484  1.212521  training       0\n",
              "15647 -0.074220 -1.648034  -0.290484 -1.869244  training       0\n",
              "\n",
              "[21144 rows x 6 columns]"
            ]
          },
          "metadata": {
            "tags": []
          },
          "execution_count": 12
        }
      ]
    },
    {
      "cell_type": "markdown",
      "metadata": {
        "id": "OD5t-8lLNReu"
      },
      "source": [
        "## Plot imputed results"
      ]
    },
    {
      "cell_type": "markdown",
      "metadata": {
        "id": "jGm6WOkUljrF"
      },
      "source": [
        "Here we want to see the true vs imputed values for both CD2 and CD22, then we want to replicate the CD2 vs CD22 plot with imputed values, to see if we've removed the biologically implausable values."
      ]
    },
    {
      "cell_type": "code",
      "metadata": {
        "colab": {
          "base_uri": "https://localhost:8080/",
          "height": 549
        },
        "id": "fIUX7Gj7NPE9",
        "outputId": "24f94af4-01c7-4b42-e4ad-4970ae16eb9a"
      },
      "source": [
        "from sklearn.metrics import r2_score\n",
        "f, axis = plt.subplots( 2, 2, sharey=True, sharex = True)\n",
        "f.patch.set_facecolor('white')\n",
        "  \n",
        "f.set_figwidth(8)\n",
        "f.set_figheight(8)\n",
        "\n",
        "unscaled_imp = scaler_y.inverse_transform(imp_df)\n",
        "unscaled_y = scaler_y.inverse_transform(y_df)\n",
        "\n",
        "print(r2_score(unscaled_y[:,0], unscaled_imp[:,0]))\n",
        "print(r2_score(unscaled_y[:,1], unscaled_imp[:,1]))\n",
        "\n",
        "for i in range(2):\n",
        "  axis[0,i].scatter(unscaled_y[:,i], unscaled_imp[:,i], s = 10,\n",
        "                    c = [\"blue\" if i == 0 else \"red\" for i in precip_test[\"precip\"]])\n",
        "  axis[0,i].set_ylabel('imputed')\n",
        "  axis[0,i].set_xlabel('true')\n",
        "  axis[0,i].set_title([\"CD22\", \"CD2\"][i])\n",
        "\n",
        "\n",
        "axis[1,0].scatter(unscaled_imp[:,1],unscaled_imp[:,0], s = 10,\n",
        "                  c = [\"blue\" if i == 0 else \"red\" for i in precip_test[\"precip\"]])\n",
        "axis[1,0].set_ylabel('imputed CD22')\n",
        "axis[1,0].set_xlabel('imputed CD2')\n",
        "\n",
        "\n",
        "axis[1,1].scatter(unscaled_y[:,1],unscaled_y[:,0], s = 10,\n",
        "                  c = [\"blue\" if i == 0 else \"red\" for i in precip_test[\"precip\"]])\n",
        "axis[1,1].set_ylabel('true CD22')\n",
        "axis[1,1].set_xlabel('true CD2')\n",
        "\n",
        "  \n",
        "# Combine all the operations and display\n",
        "plt.show()\n"
      ],
      "execution_count": 13,
      "outputs": [
        {
          "output_type": "stream",
          "text": [
            "0.5382988567009991\n",
            "0.6733599934419234\n"
          ],
          "name": "stdout"
        },
        {
          "output_type": "display_data",
          "data": {
            "image/png": "[encoded data removed]",
            "text/plain": [
              "<Figure size 576x576 with 4 Axes>"
            ]
          },
          "metadata": {
            "tags": []
          }
        }
      ]
    },
    {
      "cell_type": "markdown",
      "metadata": {
        "id": "Df2DMwJnPJ7P"
      },
      "source": [
        "## Plot imputation error\n",
        "The error should be greater for precipitates than non-precipitates, and should be negatively skewed, because precipitates always cause an over-abundance of protein counts."
      ]
    },
    {
      "cell_type": "code",
      "metadata": {
        "colab": {
          "base_uri": "https://localhost:8080/",
          "height": 297
        },
        "id": "5KbFJYeFPIqH",
        "outputId": "6b4432a9-bc77-4b95-8f5c-e738564e83af"
      },
      "source": [
        "from matplotlib import colors\n",
        "\n",
        "unscaled_imp = scaler_y.inverse_transform(imp_df)\n",
        "unscaled_y = scaler_y.inverse_transform(y_df)\n",
        "\n",
        "impute_error = unscaled_imp - unscaled_y\n",
        "error_precips = impute_error[precip_test[\"precip\"] == 1, :]\n",
        "error_qual = impute_error[precip_test[\"precip\"] == 0, :]\n",
        "\n",
        "fig, axs = plt.subplots(2, 2, sharex=True, tight_layout=True)\n",
        "\n",
        "# We can set the number of bins with the `bins` kwarg\n",
        "axs[0, 0].hist(error_precips[:,0], bins=32)\n",
        "axs[0,0].set_title(\"CD22 error, precips\")\n",
        "axs[1, 0].hist(error_qual[:,0], bins=32)\n",
        "axs[1, 0].set_title(\"CD22 error, non-precip\")\n",
        "\n",
        "axs[0, 1].hist(error_precips[:,1], bins=32)\n",
        "axs[0,1].set_title(\"CD2 error, precips\")\n",
        "axs[1, 1].hist(error_qual[:,1], bins=32)\n",
        "axs[1,1].set_title(\"CD2 error, non-precip\")\n",
        "\n",
        "\n",
        "plt.show()"
      ],
      "execution_count": 14,
      "outputs": [
        {
          "output_type": "display_data",
          "data": {
            "image/png": "[encoded data removed]",
            "text/plain": [
              "<Figure size 432x288 with 4 Axes>"
            ]
          },
          "metadata": {
            "tags": [],
            "needs_background": "light"
          }
        }
      ]
    },
    {
      "cell_type": "markdown",
      "metadata": {
        "id": "aTxYiA3a-dYe"
      },
      "source": [
        "## Hyperparameter sweep"
      ]
    },
    {
      "cell_type": "markdown",
      "metadata": {
        "id": "UMZWcWrWlQSP"
      },
      "source": [
        "Our ability to run many fold cross validation across all hyperparameters is limited by our GPU acces via colab (which times out after a certain amount of inactivity). Therefore, we conducted only a minimal hyperparameter sweep on 2 parameters, the learning rate and the dropout rate."
      ]
    },
    {
      "cell_type": "code",
      "metadata": {
        "colab": {
          "base_uri": "https://localhost:8080/"
        },
        "id": "BzXtIr-Q203A",
        "outputId": "d4f5294a-b500-46c1-bd01-64057f44ae75"
      },
      "source": [
        "learning_rates = [1e-4, 1e-5, 1e-6]\n",
        "dropouts = [0, 0.3, 0.6]\n",
        "\n",
        "lr = []\n",
        "d = []\n",
        "r2_cd22 = []\n",
        "r2_cd2 = []\n",
        "\n",
        "y_df = pd.DataFrame(test_target.cpu().numpy().squeeze())\n",
        "\n",
        "for learning_rate in learning_rates:  \n",
        "  for dropout in dropouts:\n",
        "    net = Net(n_layers = 4, first_layer_nodes = 64, data_dim = X_shape[1], \n",
        "                output_nodes = 2, batch_norm = True, dropout = dropout).to(\"cuda:0\")\n",
        "\n",
        "    # create your optimizer\n",
        "    optimizer = optim.Adam(net.parameters(), lr=learning_rate)\n",
        "    criterion = nn.MSELoss()\n",
        "\n",
        "    input = input.float().to(\"cuda:0\")\n",
        "    target = target.float().to(\"cuda:0\")\n",
        "\n",
        "    trained, loss = train_net(input, target, net, optimizer, criterion, maxiter = 1000, \n",
        "                              epsilon = 0.0001, batch_size = 128)\n",
        "\n",
        "    imputed = trained(test_input.float()).detach().cpu().numpy()\n",
        "    imp_df = pd.DataFrame(imputed.squeeze())\n",
        "\n",
        "    lr.append(learning_rate)\n",
        "    d.append(dropout)\n",
        "    r2_cd22.append(r2_score(y_df.iloc[:,0], imp_df.iloc[:,0]))\n",
        "    r2_cd2.append(r2_score(y_df.iloc[:,1], imp_df.iloc[:,1]))\n",
        "\n"
      ],
      "execution_count": null,
      "outputs": [
        {
          "output_type": "stream",
          "text": [
            "tensor(0.7759, device='cuda:0', grad_fn=<MseLossBackward>)\n",
            "tensor(0.1707, device='cuda:0', grad_fn=<MseLossBackward>)\n",
            "tensor(0.0700, device='cuda:0', grad_fn=<MseLossBackward>)\n",
            "tensor(0.0724, device='cuda:0', grad_fn=<MseLossBackward>)\n",
            "tensor(1.1505, device='cuda:0', grad_fn=<MseLossBackward>)\n",
            "tensor(0.6895, device='cuda:0', grad_fn=<MseLossBackward>)\n",
            "tensor(0.4683, device='cuda:0', grad_fn=<MseLossBackward>)\n",
            "tensor(0.2916, device='cuda:0', grad_fn=<MseLossBackward>)\n",
            "tensor(0.2182, device='cuda:0', grad_fn=<MseLossBackward>)\n",
            "tensor(0.1821, device='cuda:0', grad_fn=<MseLossBackward>)\n",
            "tensor(0.1600, device='cuda:0', grad_fn=<MseLossBackward>)\n",
            "tensor(0.1497, device='cuda:0', grad_fn=<MseLossBackward>)\n",
            "tensor(0.1362, device='cuda:0', grad_fn=<MseLossBackward>)\n",
            "tensor(0.1263, device='cuda:0', grad_fn=<MseLossBackward>)\n",
            "tensor(0.1260, device='cuda:0', grad_fn=<MseLossBackward>)\n",
            "tensor(0.1234, device='cuda:0', grad_fn=<MseLossBackward>)\n",
            "tensor(0.1146, device='cuda:0', grad_fn=<MseLossBackward>)\n",
            "tensor(0.1131, device='cuda:0', grad_fn=<MseLossBackward>)\n",
            "tensor(0.1092, device='cuda:0', grad_fn=<MseLossBackward>)\n",
            "tensor(0.1101, device='cuda:0', grad_fn=<MseLossBackward>)\n",
            "tensor(1.5959, device='cuda:0', grad_fn=<MseLossBackward>)\n",
            "tensor(1.0301, device='cuda:0', grad_fn=<MseLossBackward>)\n",
            "tensor(0.9120, device='cuda:0', grad_fn=<MseLossBackward>)\n",
            "tensor(0.8003, device='cuda:0', grad_fn=<MseLossBackward>)\n",
            "tensor(0.7247, device='cuda:0', grad_fn=<MseLossBackward>)\n",
            "tensor(0.6780, device='cuda:0', grad_fn=<MseLossBackward>)\n",
            "tensor(0.6450, device='cuda:0', grad_fn=<MseLossBackward>)\n",
            "tensor(0.6211, device='cuda:0', grad_fn=<MseLossBackward>)\n",
            "tensor(0.5745, device='cuda:0', grad_fn=<MseLossBackward>)\n",
            "tensor(0.4976, device='cuda:0', grad_fn=<MseLossBackward>)\n",
            "tensor(0.4241, device='cuda:0', grad_fn=<MseLossBackward>)\n",
            "tensor(0.3658, device='cuda:0', grad_fn=<MseLossBackward>)\n",
            "tensor(0.3378, device='cuda:0', grad_fn=<MseLossBackward>)\n",
            "tensor(0.3061, device='cuda:0', grad_fn=<MseLossBackward>)\n",
            "tensor(0.2896, device='cuda:0', grad_fn=<MseLossBackward>)\n",
            "tensor(0.2770, device='cuda:0', grad_fn=<MseLossBackward>)\n",
            "tensor(0.2765, device='cuda:0', grad_fn=<MseLossBackward>)\n",
            "tensor(0.2694, device='cuda:0', grad_fn=<MseLossBackward>)\n",
            "tensor(0.2539, device='cuda:0', grad_fn=<MseLossBackward>)\n",
            "tensor(0.2528, device='cuda:0', grad_fn=<MseLossBackward>)\n",
            "tensor(0.2411, device='cuda:0', grad_fn=<MseLossBackward>)\n",
            "tensor(0.2559, device='cuda:0', grad_fn=<MseLossBackward>)\n",
            "tensor(1.0130, device='cuda:0', grad_fn=<MseLossBackward>)\n",
            "tensor(0.7545, device='cuda:0', grad_fn=<MseLossBackward>)\n",
            "tensor(0.6021, device='cuda:0', grad_fn=<MseLossBackward>)\n",
            "tensor(0.4915, device='cuda:0', grad_fn=<MseLossBackward>)\n",
            "tensor(0.3921, device='cuda:0', grad_fn=<MseLossBackward>)\n",
            "tensor(0.3041, device='cuda:0', grad_fn=<MseLossBackward>)\n",
            "tensor(0.2308, device='cuda:0', grad_fn=<MseLossBackward>)\n",
            "tensor(0.1730, device='cuda:0', grad_fn=<MseLossBackward>)\n",
            "tensor(0.1295, device='cuda:0', grad_fn=<MseLossBackward>)\n",
            "tensor(0.0973, device='cuda:0', grad_fn=<MseLossBackward>)\n",
            "tensor(0.0735, device='cuda:0', grad_fn=<MseLossBackward>)\n",
            "tensor(0.0562, device='cuda:0', grad_fn=<MseLossBackward>)\n",
            "tensor(0.0436, device='cuda:0', grad_fn=<MseLossBackward>)\n",
            "tensor(0.0338, device='cuda:0', grad_fn=<MseLossBackward>)\n",
            "tensor(0.0277, device='cuda:0', grad_fn=<MseLossBackward>)\n",
            "tensor(0.0230, device='cuda:0', grad_fn=<MseLossBackward>)\n",
            "tensor(0.0201, device='cuda:0', grad_fn=<MseLossBackward>)\n",
            "tensor(0.0185, device='cuda:0', grad_fn=<MseLossBackward>)\n",
            "tensor(0.0190, device='cuda:0', grad_fn=<MseLossBackward>)\n",
            "tensor(1.4768, device='cuda:0', grad_fn=<MseLossBackward>)\n",
            "tensor(1.0914, device='cuda:0', grad_fn=<MseLossBackward>)\n",
            "tensor(1.0109, device='cuda:0', grad_fn=<MseLossBackward>)\n",
            "tensor(0.9503, device='cuda:0', grad_fn=<MseLossBackward>)\n",
            "tensor(0.8900, device='cuda:0', grad_fn=<MseLossBackward>)\n",
            "tensor(0.8371, device='cuda:0', grad_fn=<MseLossBackward>)\n",
            "tensor(0.7909, device='cuda:0', grad_fn=<MseLossBackward>)\n",
            "tensor(0.7531, device='cuda:0', grad_fn=<MseLossBackward>)\n",
            "tensor(0.7152, device='cuda:0', grad_fn=<MseLossBackward>)\n",
            "tensor(0.6804, device='cuda:0', grad_fn=<MseLossBackward>)\n",
            "tensor(0.6566, device='cuda:0', grad_fn=<MseLossBackward>)\n",
            "tensor(0.6188, device='cuda:0', grad_fn=<MseLossBackward>)\n",
            "tensor(0.5935, device='cuda:0', grad_fn=<MseLossBackward>)\n",
            "tensor(0.5662, device='cuda:0', grad_fn=<MseLossBackward>)\n",
            "tensor(0.5332, device='cuda:0', grad_fn=<MseLossBackward>)\n",
            "tensor(0.5013, device='cuda:0', grad_fn=<MseLossBackward>)\n",
            "tensor(0.4721, device='cuda:0', grad_fn=<MseLossBackward>)\n",
            "tensor(0.4424, device='cuda:0', grad_fn=<MseLossBackward>)\n",
            "tensor(0.4120, device='cuda:0', grad_fn=<MseLossBackward>)\n",
            "tensor(0.3914, device='cuda:0', grad_fn=<MseLossBackward>)\n",
            "tensor(0.3592, device='cuda:0', grad_fn=<MseLossBackward>)\n",
            "tensor(0.3416, device='cuda:0', grad_fn=<MseLossBackward>)\n",
            "tensor(0.3231, device='cuda:0', grad_fn=<MseLossBackward>)\n",
            "tensor(0.3042, device='cuda:0', grad_fn=<MseLossBackward>)\n",
            "tensor(0.2914, device='cuda:0', grad_fn=<MseLossBackward>)\n",
            "tensor(0.2788, device='cuda:0', grad_fn=<MseLossBackward>)\n",
            "tensor(0.2632, device='cuda:0', grad_fn=<MseLossBackward>)\n",
            "tensor(0.2535, device='cuda:0', grad_fn=<MseLossBackward>)\n",
            "tensor(0.2461, device='cuda:0', grad_fn=<MseLossBackward>)\n",
            "tensor(0.2312, device='cuda:0', grad_fn=<MseLossBackward>)\n",
            "tensor(0.2289, device='cuda:0', grad_fn=<MseLossBackward>)\n",
            "tensor(0.2152, device='cuda:0', grad_fn=<MseLossBackward>)\n",
            "tensor(0.2086, device='cuda:0', grad_fn=<MseLossBackward>)\n",
            "tensor(0.2028, device='cuda:0', grad_fn=<MseLossBackward>)\n",
            "tensor(0.2060, device='cuda:0', grad_fn=<MseLossBackward>)\n",
            "tensor(1.6920, device='cuda:0', grad_fn=<MseLossBackward>)\n",
            "tensor(1.4739, device='cuda:0', grad_fn=<MseLossBackward>)\n",
            "tensor(1.3692, device='cuda:0', grad_fn=<MseLossBackward>)\n",
            "tensor(1.2483, device='cuda:0', grad_fn=<MseLossBackward>)\n",
            "tensor(1.1821, device='cuda:0', grad_fn=<MseLossBackward>)\n",
            "tensor(1.1389, device='cuda:0', grad_fn=<MseLossBackward>)\n",
            "tensor(1.0778, device='cuda:0', grad_fn=<MseLossBackward>)\n",
            "tensor(1.0399, device='cuda:0', grad_fn=<MseLossBackward>)\n",
            "tensor(1.0164, device='cuda:0', grad_fn=<MseLossBackward>)\n",
            "tensor(0.9929, device='cuda:0', grad_fn=<MseLossBackward>)\n",
            "tensor(0.9657, device='cuda:0', grad_fn=<MseLossBackward>)\n",
            "tensor(0.9393, device='cuda:0', grad_fn=<MseLossBackward>)\n",
            "tensor(0.9210, device='cuda:0', grad_fn=<MseLossBackward>)\n",
            "tensor(0.8957, device='cuda:0', grad_fn=<MseLossBackward>)\n",
            "tensor(0.8758, device='cuda:0', grad_fn=<MseLossBackward>)\n",
            "tensor(0.8553, device='cuda:0', grad_fn=<MseLossBackward>)\n",
            "tensor(0.8339, device='cuda:0', grad_fn=<MseLossBackward>)\n",
            "tensor(0.8167, device='cuda:0', grad_fn=<MseLossBackward>)\n",
            "tensor(0.8004, device='cuda:0', grad_fn=<MseLossBackward>)\n",
            "tensor(0.7968, device='cuda:0', grad_fn=<MseLossBackward>)\n",
            "tensor(0.7775, device='cuda:0', grad_fn=<MseLossBackward>)\n",
            "tensor(0.7693, device='cuda:0', grad_fn=<MseLossBackward>)\n",
            "tensor(0.7545, device='cuda:0', grad_fn=<MseLossBackward>)\n",
            "tensor(0.7494, device='cuda:0', grad_fn=<MseLossBackward>)\n",
            "tensor(0.7396, device='cuda:0', grad_fn=<MseLossBackward>)\n",
            "tensor(0.7251, device='cuda:0', grad_fn=<MseLossBackward>)\n",
            "tensor(0.7173, device='cuda:0', grad_fn=<MseLossBackward>)\n",
            "tensor(0.7130, device='cuda:0', grad_fn=<MseLossBackward>)\n",
            "tensor(0.7025, device='cuda:0', grad_fn=<MseLossBackward>)\n",
            "tensor(0.7000, device='cuda:0', grad_fn=<MseLossBackward>)\n",
            "tensor(0.7089, device='cuda:0', grad_fn=<MseLossBackward>)\n",
            "tensor(1.3339, device='cuda:0', grad_fn=<MseLossBackward>)\n",
            "tensor(1.0268, device='cuda:0', grad_fn=<MseLossBackward>)\n",
            "tensor(0.9582, device='cuda:0', grad_fn=<MseLossBackward>)\n",
            "tensor(0.9240, device='cuda:0', grad_fn=<MseLossBackward>)\n",
            "tensor(0.8991, device='cuda:0', grad_fn=<MseLossBackward>)\n",
            "tensor(0.8757, device='cuda:0', grad_fn=<MseLossBackward>)\n",
            "tensor(0.8519, device='cuda:0', grad_fn=<MseLossBackward>)\n",
            "tensor(0.8277, device='cuda:0', grad_fn=<MseLossBackward>)\n",
            "tensor(0.8048, device='cuda:0', grad_fn=<MseLossBackward>)\n",
            "tensor(0.7833, device='cuda:0', grad_fn=<MseLossBackward>)\n",
            "tensor(0.7632, device='cuda:0', grad_fn=<MseLossBackward>)\n",
            "tensor(0.7447, device='cuda:0', grad_fn=<MseLossBackward>)\n",
            "tensor(0.7275, device='cuda:0', grad_fn=<MseLossBackward>)\n",
            "tensor(0.7115, device='cuda:0', grad_fn=<MseLossBackward>)\n",
            "tensor(0.6964, device='cuda:0', grad_fn=<MseLossBackward>)\n",
            "tensor(0.6821, device='cuda:0', grad_fn=<MseLossBackward>)\n",
            "tensor(0.6683, device='cuda:0', grad_fn=<MseLossBackward>)\n",
            "tensor(0.6550, device='cuda:0', grad_fn=<MseLossBackward>)\n",
            "tensor(0.6421, device='cuda:0', grad_fn=<MseLossBackward>)\n",
            "tensor(0.6294, device='cuda:0', grad_fn=<MseLossBackward>)\n",
            "tensor(0.6169, device='cuda:0', grad_fn=<MseLossBackward>)\n",
            "tensor(0.6045, device='cuda:0', grad_fn=<MseLossBackward>)\n",
            "tensor(0.5922, device='cuda:0', grad_fn=<MseLossBackward>)\n",
            "tensor(0.5801, device='cuda:0', grad_fn=<MseLossBackward>)\n",
            "tensor(0.5682, device='cuda:0', grad_fn=<MseLossBackward>)\n",
            "tensor(0.5564, device='cuda:0', grad_fn=<MseLossBackward>)\n",
            "tensor(0.5447, device='cuda:0', grad_fn=<MseLossBackward>)\n",
            "tensor(0.5332, device='cuda:0', grad_fn=<MseLossBackward>)\n",
            "tensor(0.5218, device='cuda:0', grad_fn=<MseLossBackward>)\n",
            "tensor(0.5105, device='cuda:0', grad_fn=<MseLossBackward>)\n",
            "tensor(0.4993, device='cuda:0', grad_fn=<MseLossBackward>)\n",
            "tensor(0.4883, device='cuda:0', grad_fn=<MseLossBackward>)\n",
            "tensor(0.4773, device='cuda:0', grad_fn=<MseLossBackward>)\n",
            "tensor(0.4665, device='cuda:0', grad_fn=<MseLossBackward>)\n",
            "tensor(0.4559, device='cuda:0', grad_fn=<MseLossBackward>)\n",
            "tensor(0.4453, device='cuda:0', grad_fn=<MseLossBackward>)\n",
            "tensor(0.4349, device='cuda:0', grad_fn=<MseLossBackward>)\n",
            "tensor(0.4245, device='cuda:0', grad_fn=<MseLossBackward>)\n",
            "tensor(0.4142, device='cuda:0', grad_fn=<MseLossBackward>)\n",
            "tensor(0.4040, device='cuda:0', grad_fn=<MseLossBackward>)\n",
            "tensor(0.3940, device='cuda:0', grad_fn=<MseLossBackward>)\n",
            "tensor(0.3841, device='cuda:0', grad_fn=<MseLossBackward>)\n",
            "tensor(0.3744, device='cuda:0', grad_fn=<MseLossBackward>)\n",
            "tensor(0.3647, device='cuda:0', grad_fn=<MseLossBackward>)\n",
            "tensor(0.3552, device='cuda:0', grad_fn=<MseLossBackward>)\n",
            "tensor(0.3458, device='cuda:0', grad_fn=<MseLossBackward>)\n",
            "tensor(0.3366, device='cuda:0', grad_fn=<MseLossBackward>)\n",
            "tensor(0.3275, device='cuda:0', grad_fn=<MseLossBackward>)\n",
            "tensor(0.3185, device='cuda:0', grad_fn=<MseLossBackward>)\n",
            "tensor(0.3096, device='cuda:0', grad_fn=<MseLossBackward>)\n",
            "tensor(0.3009, device='cuda:0', grad_fn=<MseLossBackward>)\n",
            "tensor(0.2924, device='cuda:0', grad_fn=<MseLossBackward>)\n",
            "tensor(0.2840, device='cuda:0', grad_fn=<MseLossBackward>)\n",
            "tensor(0.2758, device='cuda:0', grad_fn=<MseLossBackward>)\n",
            "tensor(0.2677, device='cuda:0', grad_fn=<MseLossBackward>)\n",
            "tensor(0.2598, device='cuda:0', grad_fn=<MseLossBackward>)\n",
            "tensor(0.2521, device='cuda:0', grad_fn=<MseLossBackward>)\n",
            "tensor(0.2445, device='cuda:0', grad_fn=<MseLossBackward>)\n",
            "tensor(0.2371, device='cuda:0', grad_fn=<MseLossBackward>)\n",
            "tensor(0.2298, device='cuda:0', grad_fn=<MseLossBackward>)\n",
            "tensor(0.2228, device='cuda:0', grad_fn=<MseLossBackward>)\n",
            "tensor(0.2159, device='cuda:0', grad_fn=<MseLossBackward>)\n",
            "tensor(0.2092, device='cuda:0', grad_fn=<MseLossBackward>)\n",
            "tensor(0.2027, device='cuda:0', grad_fn=<MseLossBackward>)\n",
            "tensor(0.1963, device='cuda:0', grad_fn=<MseLossBackward>)\n",
            "tensor(0.1901, device='cuda:0', grad_fn=<MseLossBackward>)\n",
            "tensor(0.1841, device='cuda:0', grad_fn=<MseLossBackward>)\n",
            "tensor(0.1782, device='cuda:0', grad_fn=<MseLossBackward>)\n",
            "tensor(0.1725, device='cuda:0', grad_fn=<MseLossBackward>)\n",
            "tensor(0.1670, device='cuda:0', grad_fn=<MseLossBackward>)\n",
            "tensor(0.1616, device='cuda:0', grad_fn=<MseLossBackward>)\n",
            "tensor(0.1564, device='cuda:0', grad_fn=<MseLossBackward>)\n",
            "tensor(0.1514, device='cuda:0', grad_fn=<MseLossBackward>)\n",
            "tensor(0.1465, device='cuda:0', grad_fn=<MseLossBackward>)\n",
            "tensor(0.1417, device='cuda:0', grad_fn=<MseLossBackward>)\n",
            "tensor(0.1371, device='cuda:0', grad_fn=<MseLossBackward>)\n",
            "tensor(0.1326, device='cuda:0', grad_fn=<MseLossBackward>)\n",
            "tensor(0.1283, device='cuda:0', grad_fn=<MseLossBackward>)\n",
            "tensor(0.1241, device='cuda:0', grad_fn=<MseLossBackward>)\n",
            "tensor(0.1200, device='cuda:0', grad_fn=<MseLossBackward>)\n",
            "tensor(0.1160, device='cuda:0', grad_fn=<MseLossBackward>)\n",
            "tensor(0.1122, device='cuda:0', grad_fn=<MseLossBackward>)\n",
            "tensor(0.1084, device='cuda:0', grad_fn=<MseLossBackward>)\n",
            "tensor(0.1049, device='cuda:0', grad_fn=<MseLossBackward>)\n",
            "tensor(0.1014, device='cuda:0', grad_fn=<MseLossBackward>)\n",
            "tensor(0.0980, device='cuda:0', grad_fn=<MseLossBackward>)\n",
            "tensor(0.0947, device='cuda:0', grad_fn=<MseLossBackward>)\n",
            "tensor(0.0916, device='cuda:0', grad_fn=<MseLossBackward>)\n",
            "tensor(0.0885, device='cuda:0', grad_fn=<MseLossBackward>)\n",
            "tensor(0.0856, device='cuda:0', grad_fn=<MseLossBackward>)\n",
            "tensor(0.0827, device='cuda:0', grad_fn=<MseLossBackward>)\n",
            "tensor(0.0800, device='cuda:0', grad_fn=<MseLossBackward>)\n",
            "tensor(0.0773, device='cuda:0', grad_fn=<MseLossBackward>)\n",
            "tensor(0.0748, device='cuda:0', grad_fn=<MseLossBackward>)\n",
            "tensor(0.0723, device='cuda:0', grad_fn=<MseLossBackward>)\n",
            "tensor(0.0699, device='cuda:0', grad_fn=<MseLossBackward>)\n",
            "tensor(0.0675, device='cuda:0', grad_fn=<MseLossBackward>)\n",
            "tensor(0.0653, device='cuda:0', grad_fn=<MseLossBackward>)\n",
            "tensor(0.0631, device='cuda:0', grad_fn=<MseLossBackward>)\n",
            "tensor(0.0610, device='cuda:0', grad_fn=<MseLossBackward>)\n",
            "tensor(1.5961, device='cuda:0', grad_fn=<MseLossBackward>)\n",
            "tensor(1.3577, device='cuda:0', grad_fn=<MseLossBackward>)\n",
            "tensor(1.2793, device='cuda:0', grad_fn=<MseLossBackward>)\n",
            "tensor(1.2094, device='cuda:0', grad_fn=<MseLossBackward>)\n",
            "tensor(1.1932, device='cuda:0', grad_fn=<MseLossBackward>)\n",
            "tensor(1.1641, device='cuda:0', grad_fn=<MseLossBackward>)\n",
            "tensor(1.1145, device='cuda:0', grad_fn=<MseLossBackward>)\n",
            "tensor(1.1156, device='cuda:0', grad_fn=<MseLossBackward>)\n",
            "tensor(1.7366, device='cuda:0', grad_fn=<MseLossBackward>)\n",
            "tensor(1.6389, device='cuda:0', grad_fn=<MseLossBackward>)\n",
            "tensor(1.6951, device='cuda:0', grad_fn=<MseLossBackward>)\n"
          ],
          "name": "stdout"
        }
      ]
    },
    {
      "cell_type": "code",
      "metadata": {
        "colab": {
          "base_uri": "https://localhost:8080/",
          "height": 331
        },
        "id": "pZ4pfWSO7gEM",
        "outputId": "77e5720a-2eaa-4e7c-a60d-8c97fcfce33f"
      },
      "source": [
        "tuning = pd.DataFrame(np.asarray([lr, d, r2_cd22, r2_cd2]).T)\n",
        "tuning.to_csv(\"drive/MyDrive/CIS_519_data/LR_dropout_tuning.csv\")\n",
        "tuning"
      ],
      "execution_count": null,
      "outputs": [
        {
          "output_type": "execute_result",
          "data": {
            "text/html": [
              "<div>\n",
              "<style scoped>\n",
              "    .dataframe tbody tr th:only-of-type {\n",
              "        vertical-align: middle;\n",
              "    }\n",
              "\n",
              "    .dataframe tbody tr th {\n",
              "        vertical-align: top;\n",
              "    }\n",
              "\n",
              "    .dataframe thead th {\n",
              "        text-align: right;\n",
              "    }\n",
              "</style>\n",
              "<table border=\"1\" class=\"dataframe\">\n",
              "  <thead>\n",
              "    <tr style=\"text-align: right;\">\n",
              "      <th></th>\n",
              "      <th>0</th>\n",
              "      <th>1</th>\n",
              "      <th>2</th>\n",
              "      <th>3</th>\n",
              "    </tr>\n",
              "  </thead>\n",
              "  <tbody>\n",
              "    <tr>\n",
              "      <th>0</th>\n",
              "      <td>0.000100</td>\n",
              "      <td>0.0</td>\n",
              "      <td>0.051906</td>\n",
              "      <td>0.708569</td>\n",
              "    </tr>\n",
              "    <tr>\n",
              "      <th>1</th>\n",
              "      <td>0.000100</td>\n",
              "      <td>0.3</td>\n",
              "      <td>0.494343</td>\n",
              "      <td>0.756087</td>\n",
              "    </tr>\n",
              "    <tr>\n",
              "      <th>2</th>\n",
              "      <td>0.000100</td>\n",
              "      <td>0.6</td>\n",
              "      <td>0.367258</td>\n",
              "      <td>0.713658</td>\n",
              "    </tr>\n",
              "    <tr>\n",
              "      <th>3</th>\n",
              "      <td>0.000010</td>\n",
              "      <td>0.0</td>\n",
              "      <td>-0.141552</td>\n",
              "      <td>0.472041</td>\n",
              "    </tr>\n",
              "    <tr>\n",
              "      <th>4</th>\n",
              "      <td>0.000010</td>\n",
              "      <td>0.3</td>\n",
              "      <td>0.300619</td>\n",
              "      <td>0.722093</td>\n",
              "    </tr>\n",
              "    <tr>\n",
              "      <th>5</th>\n",
              "      <td>0.000010</td>\n",
              "      <td>0.6</td>\n",
              "      <td>0.014981</td>\n",
              "      <td>0.537127</td>\n",
              "    </tr>\n",
              "    <tr>\n",
              "      <th>6</th>\n",
              "      <td>0.000001</td>\n",
              "      <td>0.0</td>\n",
              "      <td>-0.109301</td>\n",
              "      <td>0.467586</td>\n",
              "    </tr>\n",
              "    <tr>\n",
              "      <th>7</th>\n",
              "      <td>0.000001</td>\n",
              "      <td>0.3</td>\n",
              "      <td>-0.236413</td>\n",
              "      <td>-0.002362</td>\n",
              "    </tr>\n",
              "    <tr>\n",
              "      <th>8</th>\n",
              "      <td>0.000001</td>\n",
              "      <td>0.6</td>\n",
              "      <td>-0.697690</td>\n",
              "      <td>-0.570446</td>\n",
              "    </tr>\n",
              "  </tbody>\n",
              "</table>\n",
              "</div>"
            ],
            "text/plain": [
              "          0    1         2         3\n",
              "0  0.000100  0.0  0.051906  0.708569\n",
              "1  0.000100  0.3  0.494343  0.756087\n",
              "2  0.000100  0.6  0.367258  0.713658\n",
              "3  0.000010  0.0 -0.141552  0.472041\n",
              "4  0.000010  0.3  0.300619  0.722093\n",
              "5  0.000010  0.6  0.014981  0.537127\n",
              "6  0.000001  0.0 -0.109301  0.467586\n",
              "7  0.000001  0.3 -0.236413 -0.002362\n",
              "8  0.000001  0.6 -0.697690 -0.570446"
            ]
          },
          "metadata": {
            "tags": []
          },
          "execution_count": 26
        }
      ]
    }
  ]
}